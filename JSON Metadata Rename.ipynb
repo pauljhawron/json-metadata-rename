{
 "cells": [
  {
   "cell_type": "code",
   "execution_count": 40,
   "metadata": {},
   "outputs": [],
   "source": [
    "import json\n",
    "\n",
    "def update_json_batch(num_files):\n",
    "    file_list = [f'{i}.json' for i in range(350, 500, 1)]\n",
    "    for file_name in file_list:\n",
    "        with open(file_name, 'r') as json_file:\n",
    "            data = json.load(json_file)\n",
    "            \n",
    "        # Extract the name of the json file from the file_name variable\n",
    "        json_file_name = file_name.split('.')[0]\n",
    "        \n",
    "        # Update the \"name\" property to \"3D Ticket #\" + the name of the file\n",
    "        data[\"name\"] = f\"3D Ticket #{json_file_name}\"\n",
    "        \n",
    "        # Update the \"image\" property to the name of the file + \".gif\"\n",
    "        data['image'] = f\"{json_file_name}.gif\"\n",
    "        \n",
    "        if 'properties' in data:\n",
    "            if 'files' in data['properties']:\n",
    "                for file_data in data['properties']['files']:\n",
    "                    file_data[\"uri\"] = f\"{json_file_name}.gif\"\n",
    "        \n",
    "        with open(file_name, 'w') as json_file:\n",
    "            json.dump(data, json_file)\n",
    "\n",
    "num_files = 150\n",
    "update_json_batch(num_files)"
   ]
  }
 ],
 "metadata": {
  "kernelspec": {
   "display_name": "Python 3",
   "language": "python",
   "name": "python3"
  },
  "language_info": {
   "codemirror_mode": {
    "name": "ipython",
    "version": 3
   },
   "file_extension": ".py",
   "mimetype": "text/x-python",
   "name": "python",
   "nbconvert_exporter": "python",
   "pygments_lexer": "ipython3",
   "version": "3.6.6"
  }
 },
 "nbformat": 4,
 "nbformat_minor": 2
}
